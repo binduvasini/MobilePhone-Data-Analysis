{
 "cells": [
  {
   "cell_type": "markdown",
   "metadata": {},
   "source": [
    "### The following dataset is taken from Kaggle.\n",
    "\n",
    "#### Introduction\n",
    "The Mobile phone activity dataset is composed by one week of Call Details Records (CDRs) from the city of Milan and the Province of Trentino (Italy).\n",
    "\n",
    "#### Description of the dataset\n",
    "Every time a user engages a telecommunication interaction, a Radio Base Station (RBS) is assigned by the operator and delivers the communication through the network. Then, a new CDR is created recording the time of the interaction and the RBS which handled it. The following activities are present in the dataset:\n",
    "\n",
    "- received SMS\n",
    "- sent SMS\n",
    "- incoming calls\n",
    "- outgoing calls\n",
    "- Internet activity"
   ]
  },
  {
   "cell_type": "markdown",
   "metadata": {},
   "source": [
    "#### Loading the dataset and creating a dataframe"
   ]
  },
  {
   "cell_type": "code",
   "execution_count": 57,
   "metadata": {},
   "outputs": [
    {
     "name": "stdout",
     "output_type": "stream",
     "text": [
      "root\n",
      " |-- datetime: timestamp (nullable = true)\n",
      " |-- CellID: integer (nullable = true)\n",
      " |-- countrycode: integer (nullable = true)\n",
      " |-- provinceName: string (nullable = true)\n",
      " |-- cell2Province: double (nullable = true)\n",
      " |-- Province2cell: double (nullable = true)\n",
      " |-- smsin: double (nullable = true)\n",
      " |-- smsout: double (nullable = true)\n",
      " |-- callin: double (nullable = true)\n",
      " |-- callout: double (nullable = true)\n",
      " |-- internet: double (nullable = true)\n",
      "\n"
     ]
    }
   ],
   "source": [
    "df = spark.read.format('csv').option('header', 'true').option('inferSchema', 'true').option('timestampFormat', 'MM/d/yyyy HH:mm').load('C:\\MS CS\\Semester3\\Big Data\\mobile-phone-activity\\*.csv')\n",
    "df.printSchema()"
   ]
  },
  {
   "cell_type": "markdown",
   "metadata": {},
   "source": [
    "#### Cleaning up the data - throwing away data with country code 0"
   ]
  },
  {
   "cell_type": "code",
   "execution_count": 94,
   "metadata": {},
   "outputs": [
    {
     "data": {
      "text/plain": [
       "6455521"
      ]
     },
     "execution_count": 94,
     "metadata": {},
     "output_type": "execute_result"
    }
   ],
   "source": [
    "cleanedData = df.filter(df.countrycode > 0)\n",
    "cleanedData.count()"
   ]
  },
  {
   "cell_type": "markdown",
   "metadata": {},
   "source": [
    "#### Summary Statistics"
   ]
  },
  {
   "cell_type": "code",
   "execution_count": 59,
   "metadata": {},
   "outputs": [
    {
     "name": "stdout",
     "output_type": "stream",
     "text": [
      "+-------+------------------+\n",
      "|summary|            CellID|\n",
      "+-------+------------------+\n",
      "|  count|           7340025|\n",
      "|   mean| 5185.996236797559|\n",
      "| stddev|2725.0560844847546|\n",
      "|    min|                 1|\n",
      "|    max|             10000|\n",
      "+-------+------------------+\n",
      "\n",
      "+-------+------------------+\n",
      "|summary|       countrycode|\n",
      "+-------+------------------+\n",
      "|  count|           7340025|\n",
      "|   mean|385.30124979138355|\n",
      "| stddev|4762.7411433001225|\n",
      "|    min|                 0|\n",
      "|    max|             97259|\n",
      "+-------+------------------+\n",
      "\n",
      "+-------+------------------+\n",
      "|summary|     cell2Province|\n",
      "+-------+------------------+\n",
      "|  count|           4505081|\n",
      "|   mean|0.7463889995540853|\n",
      "| stddev|3.7141639278375935|\n",
      "|    min|               0.0|\n",
      "|    max|          338.0897|\n",
      "+-------+------------------+\n",
      "\n",
      "+-------+------------------+\n",
      "|summary|     Province2cell|\n",
      "+-------+------------------+\n",
      "|  count|           4818105|\n",
      "|   mean|0.7126784532923495|\n",
      "| stddev|3.6396254864391295|\n",
      "|    min|               0.0|\n",
      "|    max|          357.4303|\n",
      "+-------+------------------+\n",
      "\n",
      "+-------+------------------+\n",
      "|summary|             smsin|\n",
      "+-------+------------------+\n",
      "|  count|           3067315|\n",
      "|   mean|6.3084017532270495|\n",
      "| stddev| 24.07074199843334|\n",
      "|    min|               0.0|\n",
      "|    max|         1576.2117|\n",
      "+-------+------------------+\n",
      "\n",
      "+-------+------------------+\n",
      "|summary|            smsout|\n",
      "+-------+------------------+\n",
      "|  count|           1747199|\n",
      "|   mean| 6.233379670088792|\n",
      "| stddev|22.331021329216544|\n",
      "|    min|               0.0|\n",
      "|    max|         1577.9038|\n",
      "+-------+------------------+\n",
      "\n",
      "+-------+------------------+\n",
      "|summary|            callin|\n",
      "+-------+------------------+\n",
      "|  count|           1921612|\n",
      "|   mean| 6.296738194234572|\n",
      "| stddev|26.327454351589907|\n",
      "|    min|               0.0|\n",
      "|    max|          1328.088|\n",
      "+-------+------------------+\n",
      "\n",
      "+-------+-----------------+\n",
      "|summary|          callout|\n",
      "+-------+-----------------+\n",
      "|  count|          3068334|\n",
      "|   mean|4.628117672880284|\n",
      "| stddev|23.23197502943783|\n",
      "|    min|              0.0|\n",
      "|    max|        1502.8678|\n",
      "+-------+-----------------+\n",
      "\n",
      "+-------+-----------------+\n",
      "|summary|         internet|\n",
      "+-------+-----------------+\n",
      "|  count|          3486978|\n",
      "|   mean|94.24671907869389|\n",
      "| stddev|367.8813192334463|\n",
      "|    min|              0.0|\n",
      "|    max|       30184.2127|\n",
      "+-------+-----------------+\n",
      "\n"
     ]
    }
   ],
   "source": [
    "for column in df.columns:\n",
    "    if column != \"datetime\" and column != \"provinceName\":\n",
    "        df.describe(column).show()"
   ]
  },
  {
   "cell_type": "markdown",
   "metadata": {},
   "source": [
    "#### Analysing the CellID who has most calls, sms, and internet usage."
   ]
  },
  {
   "cell_type": "code",
   "execution_count": 60,
   "metadata": {},
   "outputs": [
    {
     "name": "stdout",
     "output_type": "stream",
     "text": [
      "+------+---------------+\n",
      "|CellID|maximum sms out|\n",
      "+------+---------------+\n",
      "|  4948|maximum sms out|\n",
      "+------+---------------+\n",
      "\n",
      "+------+----------------+\n",
      "|CellID|maximum call out|\n",
      "+------+----------------+\n",
      "|  5059|maximum call out|\n",
      "+------+----------------+\n",
      "\n",
      "+------+----------------------+\n",
      "|CellID|maximum internet usage|\n",
      "+------+----------------------+\n",
      "|  5161|  maximum internet ...|\n",
      "+------+----------------------+\n",
      "\n"
     ]
    }
   ],
   "source": [
    "cleanedData.createOrReplaceTempView(\"mobiledata_table\")\n",
    "spark.sql(\"select CellID, 'maximum sms out' from mobiledata_table where smsout in (select max(smsout) from mobiledata_table)\").show()\n",
    "spark.sql(\"select CellID, 'maximum call out' from mobiledata_table where callout in (select max(callout) from mobiledata_table)\").show()\n",
    "spark.sql(\"select CellID, 'maximum internet usage' from mobiledata_table where internet in (select max(internet) from mobiledata_table)\").show()"
   ]
  },
  {
   "cell_type": "markdown",
   "metadata": {},
   "source": [
    "#### Correlation Matrix\n",
    "Dropping out NaN values and considering data whose internet value > 1"
   ]
  },
  {
   "cell_type": "code",
   "execution_count": 116,
   "metadata": {
    "collapsed": true,
    "scrolled": true
   },
   "outputs": [],
   "source": [
    "from pyspark.ml.stat import Correlation\n",
    "from pyspark.mllib.stat import Statistics\n",
    "from pyspark.mllib.linalg import Vectors\n",
    "import numpy as np\n",
    "import sys\n",
    "\n",
    "cleanedDF = cleanedData.drop(\"datetime\",\"CellID\",\"countrycode\",\"provinceName\")\n",
    "cleanedDF = cleanedDF.dropna().filter(cleanedDF.internet > 1)\n",
    "vector_data = cleanedDF.rdd.map(lambda data: Vectors.dense([c for c in data]))\n",
    "correlation_matrix = Statistics.corr(vector_data, method=\"pearson\")"
   ]
  },
  {
   "cell_type": "markdown",
   "metadata": {},
   "source": [
    "#### Feature pairs and their correlation coefficients"
   ]
  },
  {
   "cell_type": "code",
   "execution_count": 117,
   "metadata": {},
   "outputs": [
    {
     "name": "stdout",
     "output_type": "stream",
     "text": [
      "cell2Province , cell2Province : 1.0\n",
      "cell2Province , Province2cell : 0.957878755893\n",
      "cell2Province , smsin : 0.029504314584\n",
      "cell2Province , smsout : 0.0236913169321\n",
      "cell2Province , callin : 0.0356233815365\n",
      "cell2Province , callout : 0.0356576762858\n",
      "cell2Province , internet : 0.0140887229859\n",
      "Province2cell , cell2Province : 0.957878755893\n",
      "Province2cell , Province2cell : 1.0\n",
      "Province2cell , smsin : 0.0296687266286\n",
      "Province2cell , smsout : 0.0238451623729\n",
      "Province2cell , callin : 0.035668984983\n",
      "Province2cell , callout : 0.0358171165989\n",
      "Province2cell , internet : 0.0146999641726\n",
      "smsin , cell2Province : 0.029504314584\n",
      "smsin , Province2cell : 0.0296687266286\n",
      "smsin , smsin : 1.0\n",
      "smsin , smsout : 0.922025138993\n",
      "smsin , callin : 0.942273184399\n",
      "smsin , callout : 0.936553295707\n",
      "smsin , internet : 0.87041175209\n",
      "smsout , cell2Province : 0.0236913169321\n",
      "smsout , Province2cell : 0.0238451623729\n",
      "smsout , smsin : 0.922025138993\n",
      "smsout , smsout : 1.0\n",
      "smsout , callin : 0.854145648221\n",
      "smsout , callout : 0.852019978135\n",
      "smsout , internet : 0.843319093677\n",
      "callin , cell2Province : 0.0356233815365\n",
      "callin , Province2cell : 0.035668984983\n",
      "callin , smsin : 0.942273184399\n",
      "callin , smsout : 0.854145648221\n",
      "callin , callin : 1.0\n",
      "callin , callout : 0.982516510949\n",
      "callin , internet : 0.827125557303\n",
      "callout , cell2Province : 0.0356576762858\n",
      "callout , Province2cell : 0.0358171165989\n",
      "callout , smsin : 0.936553295707\n",
      "callout , smsout : 0.852019978135\n",
      "callout , callin : 0.982516510949\n",
      "callout , callout : 1.0\n",
      "callout , internet : 0.823780356228\n",
      "internet , cell2Province : 0.0140887229859\n",
      "internet , Province2cell : 0.0146999641726\n",
      "internet , smsin : 0.87041175209\n",
      "internet , smsout : 0.843319093677\n",
      "internet , callin : 0.827125557303\n",
      "internet , callout : 0.823780356228\n",
      "internet , internet : 1.0\n"
     ]
    }
   ],
   "source": [
    "feats = []\n",
    "correlationpoints = {}\n",
    "f = open('features.txt')\n",
    "for i,feat1 in enumerate(f):\n",
    "    if i==0 or i==1 or i==2 or i==3:\n",
    "        continue\n",
    "    feats.append(feat1)\n",
    "\n",
    "for j, feat2 in enumerate(feats):\n",
    "    for k, feat3 in enumerate(feats):\n",
    "        print(feat2.strip(),',',feat3.strip(),':',correlation_matrix[j,k])\n",
    "        correlationpoints[feat2.strip()+','+feat3.strip()]= correlation_matrix[j,k]"
   ]
  },
  {
   "cell_type": "markdown",
   "metadata": {},
   "source": [
    "#### Taking only the features whose correlation coefficient lies between 0.6 and 0.9"
   ]
  },
  {
   "cell_type": "code",
   "execution_count": 118,
   "metadata": {},
   "outputs": [
    {
     "name": "stdout",
     "output_type": "stream",
     "text": [
      "smsin,internet : 0.87041175209\n",
      "smsout,callin : 0.854145648221\n",
      "smsout,callout : 0.852019978135\n",
      "smsout,internet : 0.843319093677\n",
      "callin,smsout : 0.854145648221\n",
      "callin,internet : 0.827125557303\n",
      "callout,smsout : 0.852019978135\n",
      "callout,internet : 0.823780356228\n",
      "internet,smsin : 0.87041175209\n",
      "internet,smsout : 0.843319093677\n",
      "internet,callin : 0.827125557303\n",
      "internet,callout : 0.823780356228\n"
     ]
    }
   ],
   "source": [
    "for key in correlationpoints:\n",
    "    if correlationpoints[key] > 0.6 and correlationpoints[key] < 0.9:\n",
    "        print(key, ':', correlationpoints[key])"
   ]
  },
  {
   "cell_type": "markdown",
   "metadata": {},
   "source": [
    "#### Training the model\n",
    "Considering the users who used internet the most\n",
    "\n",
    "Making predictions based on smsin, smsout, callin and callout\n",
    "\n",
    "90% is the training data and 10% is the test data"
   ]
  },
  {
   "cell_type": "code",
   "execution_count": 123,
   "metadata": {},
   "outputs": [
    {
     "data": {
      "text/plain": [
       "1253"
      ]
     },
     "execution_count": 123,
     "metadata": {},
     "output_type": "execute_result"
    }
   ],
   "source": [
    "from pyspark.ml.feature import VectorAssembler\n",
    "\n",
    "def prepare_data(dframe, predictors, target):\n",
    "    assembler = VectorAssembler(inputCols=predictors, outputCol=\"features\")\n",
    "    output = assembler.transform(dframe)\n",
    "    return output.select(\"features\", target).withColumnRenamed(target, \"label\")\n",
    "\n",
    "internetMax = cleanedDF.filter(cleanedDF.internet > 4000)\n",
    "prepped = prepare_data(internetMax,\n",
    "    [\"smsin\", \"callin\", \"smsout\", \"callout\"],\n",
    "    \"internet\")\n",
    "\n",
    "#prepped.show()\n",
    "(trainingData, testData) = prepped.randomSplit([0.9, 0.1])\n",
    "trainingData.count()"
   ]
  },
  {
   "cell_type": "code",
   "execution_count": 124,
   "metadata": {},
   "outputs": [
    {
     "name": "stdout",
     "output_type": "stream",
     "text": [
      "Root Mean Squared Error (RMSE) on test data = 1289.29\n"
     ]
    }
   ],
   "source": [
    "from pyspark.ml.regression import LinearRegression\n",
    "\n",
    "rf = LinearRegression(maxIter=10, regParam=0.3, elasticNetParam=0.8)\n",
    "model = rf.fit(trainingData)\n",
    "predictions = model.transform(testData)\n",
    "\n",
    "evaluator = RegressionEvaluator(\n",
    "    labelCol=\"label\", predictionCol=\"prediction\", metricName=\"rmse\")\n",
    "rmse = evaluator.evaluate(predictions)\n",
    "print(\"Root Mean Squared Error (RMSE) on test data = %g\" % rmse)"
   ]
  },
  {
   "cell_type": "code",
   "execution_count": 125,
   "metadata": {},
   "outputs": [
    {
     "data": {
      "image/png": "[encoded data removed]",
      "text/plain": [
       "<matplotlib.figure.Figure at 0x1735da504a8>"
      ]
     },
     "metadata": {},
     "output_type": "display_data"
    }
   ],
   "source": [
    "import matplotlib.pyplot as plt\n",
    "\n",
    "p_df = predictions.select(\"label\", \"prediction\").toPandas()\n",
    "\n",
    "plt.suptitle('Random Forest Regressor', fontsize=16)\n",
    "\n",
    "minval = p_df[['label', 'prediction']].min().min()\n",
    "maxval = p_df[['label', 'prediction']].max().max()\n",
    "plt.axis([minval, maxval, minval, maxval])\n",
    "\n",
    "plt.plot(p_df['label'], p_df['prediction'], '.', color='#2ba5f1')\n",
    "plt.plot(range(int(minval), int(maxval)), range(int(minval), int(maxval)), lw=3, dashes=(10, 3), color='#000000', alpha=0.25, label='Ideal Predictor')\n",
    "plt.show()"
   ]
  },
  {
   "cell_type": "markdown",
   "metadata": {},
   "source": [
    "#### Plotting Internet Activity\n",
    "\n",
    "Plotting the Internet activity of people in the following areas\n",
    "\n",
    "- MILANO\n",
    "- PAVIA\n",
    "- TRENTO"
   ]
  },
  {
   "cell_type": "code",
   "execution_count": 7,
   "metadata": {},
   "outputs": [
    {
     "data": {
      "text/plain": [
       "<matplotlib.figure.Figure at 0x22596571470>"
      ]
     },
     "metadata": {},
     "output_type": "display_data"
    },
    {
     "data": {
      "text/plain": [
       "<matplotlib.figure.Figure at 0x22595cede48>"
      ]
     },
     "metadata": {},
     "output_type": "display_data"
    },
    {
     "data": {
      "text/plain": [
       "<matplotlib.figure.Figure at 0x2259625acf8>"
      ]
     },
     "metadata": {},
     "output_type": "display_data"
    },
    {
     "data": {
      "image/png": "[encoded data removed]",
      "text/plain": [
       "<matplotlib.figure.Figure at 0x22595e76fd0>"
      ]
     },
     "metadata": {},
     "output_type": "display_data"
    }
   ],
   "source": [
    "import numpy as np\n",
    "import pandas as pd\n",
    "import seaborn as sns\n",
    "from scipy import stats, integrate\n",
    "import matplotlib.pyplot as plt\n",
    "\n",
    "sns.set_style(\"ticks\")\n",
    "sns.set_context(\"paper\")\n",
    "\n",
    "df_cdrs = pd.DataFrame({})\n",
    "for i in range(1,8):\n",
    "    mobiledf = pd.read_csv('C:/MS CS/Semester3/Big Data/mobile-phone-activity/sms-call-internet-mi-2013-11-0{}.csv'.format(i), parse_dates=['datetime'])\n",
    "    df_cdrs = df_cdrs.append(mobiledf)\n",
    "    \n",
    "df_cdrs=df_cdrs.fillna(0)\n",
    "df_cdrs['sms'] = df_cdrs['smsin'] + df_cdrs['smsout']\n",
    "df_cdrs['calls'] = df_cdrs['callin'] + df_cdrs['callout']\n",
    "\n",
    "df_cdrs_internet = df_cdrs[['datetime', 'CellID', 'internet', 'calls', 'sms']].groupby(['datetime', 'CellID'], as_index=False).sum()\n",
    "df_cdrs_internet['hour'] = df_cdrs_internet.datetime.dt.hour+24*(df_cdrs_internet.datetime.dt.day-1)\n",
    "df_cdrs_internet = df_cdrs_internet.set_index(['hour']).sort_index()\n",
    "\n",
    "f = plt.figure()\n",
    "\n",
    "ax = df_cdrs[df_cdrs.provinceName=='MILANO']['internet'].plot(label='MILANO')\n",
    "df_cdrs[df_cdrs.provinceName=='PAVIA']['internet'].plot(ax=ax, label='PAVIA')\n",
    "df_cdrs[df_cdrs.provinceName=='TRENTO']['internet'].plot(ax=ax, label='TRENTO')\n",
    "plt.xlabel(\"Weekly hour\")\n",
    "plt.ylabel(\"Number of connections\")\n",
    "sns.despine()\n",
    "\n",
    "# Shrink current axis's height by 10% on the bottom\n",
    "box = ax.get_position()\n",
    "ax.set_position([box.x0, box.y0 + box.height * 0.1,\n",
    "                 box.width, box.height * 0.9])\n",
    "ax.legend(loc='upper center', bbox_to_anchor=(0.5, -0.15),\n",
    "          fancybox=True, shadow=True, ncol=5)\n",
    "plt.show()"
   ]
  }
 ],
 "metadata": {
  "kernelspec": {
   "display_name": "Python 3",
   "language": "python",
   "name": "python3"
  },
  "language_info": {
   "codemirror_mode": {
    "name": "ipython",
    "version": 3
   },
   "file_extension": ".py",
   "mimetype": "text/x-python",
   "name": "python",
   "nbconvert_exporter": "python",
   "pygments_lexer": "ipython3",
   "version": "3.6.2"
  }
 },
 "nbformat": 4,
 "nbformat_minor": 2
}
